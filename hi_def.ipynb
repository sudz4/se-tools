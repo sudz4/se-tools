{
 "cells": [
  {
   "attachments": {},
   "cell_type": "markdown",
   "metadata": {},
   "source": [
    "| High-Def | Make visuals more crisp for presentations |\n",
    "|-|-|"
   ]
  },
  {
   "cell_type": "code",
   "execution_count": 3,
   "metadata": {},
   "outputs": [],
   "source": [
    "# libraries\n",
    "import os\n",
    "import time\n",
    "import schedule\n",
    "import pyautogui\n",
    "from screeninfo import get_monitors\n"
   ]
  },
  {
   "cell_type": "code",
   "execution_count": null,
   "metadata": {},
   "outputs": [],
   "source": [
    "# path to screen shot log folder\n",
    "# /Users/sudz4/Desktop/PROJECT FOLDER/screen_shot_program_logs"
   ]
  }
 ],
 "metadata": {
  "kernelspec": {
   "display_name": "SETOOLS_venv",
   "language": "python",
   "name": "python3"
  },
  "language_info": {
   "codemirror_mode": {
    "name": "ipython",
    "version": 3
   },
   "file_extension": ".py",
   "mimetype": "text/x-python",
   "name": "python",
   "nbconvert_exporter": "python",
   "pygments_lexer": "ipython3",
   "version": "3.11.1"
  },
  "orig_nbformat": 4
 },
 "nbformat": 4,
 "nbformat_minor": 2
}
