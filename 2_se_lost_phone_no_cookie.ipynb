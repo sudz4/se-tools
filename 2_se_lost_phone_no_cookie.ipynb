{
 "cells": [
  {
   "attachments": {},
   "cell_type": "markdown",
   "metadata": {},
   "source": [
    "| Phone Finder | Description |\n",
    "|-|-|\n",
    "| Using Twilio | As an SE I often lose my cell phone, maybe the phone is hidden under papers or a textbook on my desk. But what if my fiance Cookie is not home? What if I am alone in the middle of the night working on a demo? Who can I get to call my phone so I can auditorily locate it? I want to be able to call my phone from a twilio phone number so I can find it (until I lose it again)."
   ]
  },
  {
   "cell_type": "code",
   "execution_count": 23,
   "metadata": {},
   "outputs": [],
   "source": [
    "# libraries\n",
    "from twilio.twiml.messaging_response import MessagingResponse\n",
    "import requests\n",
    "from twilio.rest import Client\n",
    "\n",
    "import phonenumbers"
   ]
  },
  {
   "cell_type": "code",
   "execution_count": 24,
   "metadata": {},
   "outputs": [],
   "source": [
    "# files\n",
    "from X_config4 import TWILIO_ACCT_SID # hide\n",
    "from X_config4 import TWILIO_AUTH_TOKEN # all \n",
    "from X_config4 import TWILIO_PHONE_NUMBER # this \n",
    "from X_config4 import TWILIO_TARGET_PHONE_NUMBER # shit"
   ]
  },
  {
   "cell_type": "code",
   "execution_count": 25,
   "metadata": {},
   "outputs": [],
   "source": [
    "# initialize the Twilio client\n",
    "client = Client(TWILIO_ACCT_SID, TWILIO_AUTH_TOKEN)"
   ]
  },
  {
   "cell_type": "code",
   "execution_count": 22,
   "metadata": {},
   "outputs": [
    {
     "name": "stdout",
     "output_type": "stream",
     "text": [
      "Call placed to +16199447143 with call SID: CAa12c4f69db31dcc5a03894bddb4ffa8e\n"
     ]
    }
   ],
   "source": [
    "# place a call from your Twilio number to your personal number\n",
    "call = client.calls.create(\n",
    "    to=TWILIO_TARGET_PHONE_NUMBER, # this is the Sales Engineers lost phone\n",
    "    from_=TWILIO_PHONE_NUMBER, # this is the registered twilio phone number\n",
    "    url='http://demo.twilio.com/docs/voice.xml'  # This URL contains an example TwiML (Twilio Markup Language) script\n",
    ")\n",
    "\n",
    "print(f\"Call placed to {TWILIO_TARGET_PHONE_NUMBER} with call SID: {call.sid}\")"
   ]
  },
  {
   "cell_type": "code",
   "execution_count": null,
   "metadata": {},
   "outputs": [],
   "source": [
    "# OSINT report on target phone number (the SE's lost phone)\n",
    "# doing this just for fun, might be useful in the future"
   ]
  },
  {
   "attachments": {},
   "cell_type": "markdown",
   "metadata": {},
   "source": [
    "| if __name__ == '__main__': | Considerations |\n",
    "|-|-|\n",
    "| common Python idiom used to determine if a script is being run as the main program or if it's being imported as a module. | When you run a Python script from the terminal, the __name__ variable is set to '__main__' in that script, so the code block under if __name__ == '__main__': will only run if the script is executed directly. |\n",
    "\n",
    "* When you import a script as a module, the __name__ variable is set to the script's filename (without the .py extension). In this case, the code block under if __name__ == '__main__': will not be executed, and only the functions and classes defined in the script will be available for use.\n",
    "* In the context of Jupyter Notebooks, you don't have to use the if __name__ == '__main__': idiom, because Jupyter Notebooks are interactive environments that let you run code cells individually. You can think of each code cell as an isolated script that has access to the variables and functions defined in previous cells."
   ]
  },
  {
   "attachments": {},
   "cell_type": "markdown",
   "metadata": {},
   "source": [
    "![.ipynb vs .py and running the program from a jupyter notebook vs directly from the terminal](mkdwn_if_name_main.jpg)"
   ]
  },
  {
   "cell_type": "code",
   "execution_count": null,
   "metadata": {},
   "outputs": [],
   "source": []
  }
 ],
 "metadata": {
  "kernelspec": {
   "display_name": "SETOOLS_venv",
   "language": "python",
   "name": "python3"
  },
  "language_info": {
   "codemirror_mode": {
    "name": "ipython",
    "version": 3
   },
   "file_extension": ".py",
   "mimetype": "text/x-python",
   "name": "python",
   "nbconvert_exporter": "python",
   "pygments_lexer": "ipython3",
   "version": "3.11.1"
  },
  "orig_nbformat": 4
 },
 "nbformat": 4,
 "nbformat_minor": 2
}
