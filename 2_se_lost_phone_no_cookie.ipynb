{
 "cells": [
  {
   "attachments": {},
   "cell_type": "markdown",
   "metadata": {},
   "source": [
    "| Phone Finder | Description |\n",
    "|-|-|\n",
    "| Using Twilio | As an SE I often lose my cell phone, maybe the phone is hidden under papers or a textbook on my desk. But what if my fiance Cookie is not home? What if I am alone in the middle of the night working on a demo? Who can I get to call my phone so I can auditorily locate it? I want to be able to call my phone from a twilio phone number so I can find it (until I lose it again)."
   ]
  },
  {
   "cell_type": "code",
   "execution_count": 18,
   "metadata": {},
   "outputs": [],
   "source": [
    "# libraries\n",
    "from twilio.twiml.messaging_response import MessagingResponse\n",
    "import requests\n",
    "from twilio.rest import Client"
   ]
  },
  {
   "cell_type": "code",
   "execution_count": 20,
   "metadata": {},
   "outputs": [],
   "source": [
    "# files\n",
    "from X_config4 import TWILIO_ACCT_SID # hide\n",
    "from X_config4 import TWILIO_AUTH_TOKEN # all \n",
    "from X_config4 import TWILIO_PHONE_NUMBER # this \n",
    "from X_config4 import TWILIO_TARGET_PHONE_NUMBER # shit"
   ]
  },
  {
   "cell_type": "code",
   "execution_count": 21,
   "metadata": {},
   "outputs": [],
   "source": [
    "# initialize the Twilio client\n",
    "client = Client(TWILIO_ACCT_SID, TWILIO_AUTH_TOKEN)"
   ]
  },
  {
   "cell_type": "code",
   "execution_count": 22,
   "metadata": {},
   "outputs": [
    {
     "name": "stdout",
     "output_type": "stream",
     "text": [
      "Call placed to +16199447143 with call SID: CAa12c4f69db31dcc5a03894bddb4ffa8e\n"
     ]
    }
   ],
   "source": [
    "# place a call from your Twilio number to your personal number\n",
    "call = client.calls.create(\n",
    "    to=TWILIO_TARGET_PHONE_NUMBER, # this is the Sales Engineers lost phone\n",
    "    from_=TWILIO_PHONE_NUMBER, # this is the registered twilio phone number\n",
    "    url='http://demo.twilio.com/docs/voice.xml'  # This URL contains an example TwiML (Twilio Markup Language) script\n",
    ")\n",
    "\n",
    "print(f\"Call placed to {TWILIO_TARGET_PHONE_NUMBER} with call SID: {call.sid}\")"
   ]
  },
  {
   "cell_type": "code",
   "execution_count": null,
   "metadata": {},
   "outputs": [],
   "source": [
    "# OSINT report on target phone number (the SE's lost phone)\n",
    "# doing this just for fun, might be useful in the future"
   ]
  }
 ],
 "metadata": {
  "kernelspec": {
   "display_name": "SETOOLS_venv",
   "language": "python",
   "name": "python3"
  },
  "language_info": {
   "codemirror_mode": {
    "name": "ipython",
    "version": 3
   },
   "file_extension": ".py",
   "mimetype": "text/x-python",
   "name": "python",
   "nbconvert_exporter": "python",
   "pygments_lexer": "ipython3",
   "version": "3.11.1"
  },
  "orig_nbformat": 4
 },
 "nbformat": 4,
 "nbformat_minor": 2
}
