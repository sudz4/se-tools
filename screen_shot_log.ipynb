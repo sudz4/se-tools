{
 "cells": [
  {
   "attachments": {},
   "cell_type": "markdown",
   "metadata": {},
   "source": [
    "| Screen Shot Logging | Research |\n",
    "|-|-|"
   ]
  },
  {
   "cell_type": "code",
   "execution_count": 2,
   "metadata": {},
   "outputs": [],
   "source": [
    "# libraries\n",
    "import os\n",
    "import time\n",
    "import schedule\n",
    "import pyautogui\n",
    "from screeninfo import get_monitors\n",
    "from PIL import Image"
   ]
  },
  {
   "cell_type": "code",
   "execution_count": 3,
   "metadata": {},
   "outputs": [
    {
     "name": "stdout",
     "output_type": "stream",
     "text": [
      "Monitor(x=0, y=0, width=1728, height=1117, width_mm=None, height_mm=None, name=None, is_primary=True)\n",
      "Monitor(x=0, y=1117, width=2560, height=1440, width_mm=None, height_mm=None, name=None, is_primary=False)\n",
      "Monitor(x=-2560, y=396, width=2560, height=1440, width_mm=None, height_mm=None, name=None, is_primary=False)\n"
     ]
    }
   ],
   "source": [
    "# get info about monitors\n",
    "for m in get_monitors():\n",
    "    print(str(m))"
   ]
  },
  {
   "attachments": {},
   "cell_type": "markdown",
   "metadata": {},
   "source": [
    "| END OF WORK |\n",
    "|-|"
   ]
  },
  {
   "cell_type": "code",
   "execution_count": null,
   "metadata": {},
   "outputs": [],
   "source": [
    "# NOTES and Practice Code\n",
    "# # screenSHOT\n",
    "# def create_screenshots_folder():\n",
    "#     folder_path = '/Users/sudz4/Desktop/PROJECT FOLDER/screen_shot_program_logs'\n",
    "#     if not os.path.exists(folder_path):\n",
    "#         os.makedirs(folder_path)\n",
    "#     return folder_path\n",
    "\n",
    "# def get_main_screen_dimensions():\n",
    "#     main_display = CGDisplayBounds(CGMainDisplayID())\n",
    "#     return main_display.origin.x, main_display.origin.y, main_display.size.width, main_display.size.height\n",
    "\n",
    "# def take_screenshot(folder_path):\n",
    "#     timestamp = time.strftime(\"%Y%m%d-%H%M%S\")\n",
    "#     screenshot_file = os.path.join(folder_path, f\"screenshot_{timestamp}.png\")\n",
    "\n",
    "#     x, y, width, height = get_main_screen_dimensions()\n",
    "#     screenshot = pyautogui.screenshot(region=(x, y, width, height))\n",
    "#     screenshot.save(screenshot_file)\n",
    "#     print(f\"Screenshot saved at {screenshot_file}\")\n",
    "\n",
    "# def main():\n",
    "#     folder_path = create_screenshots_folder()\n",
    "#     schedule.every(10).seconds.do(take_screenshot, folder_path)\n",
    "\n",
    "#     while True:\n",
    "#         schedule.run_pending()\n",
    "#         time.sleep(1)\n",
    "\n",
    "# if __name__ == \"__main__\":\n",
    "#     main()"
   ]
  }
 ],
 "metadata": {
  "kernelspec": {
   "display_name": "SETOOLS_venv",
   "language": "python",
   "name": "python3"
  },
  "language_info": {
   "codemirror_mode": {
    "name": "ipython",
    "version": 3
   },
   "file_extension": ".py",
   "mimetype": "text/x-python",
   "name": "python",
   "nbconvert_exporter": "python",
   "pygments_lexer": "ipython3",
   "version": "3.11.1"
  },
  "orig_nbformat": 4
 },
 "nbformat": 4,
 "nbformat_minor": 2
}
