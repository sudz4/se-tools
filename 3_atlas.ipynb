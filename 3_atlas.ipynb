{
 "cells": [
  {
   "attachments": {},
   "cell_type": "markdown",
   "metadata": {},
   "source": [
    "| Program Name | Program purpose and description |\n",
    "|-|-|\n",
    "| Atlas | Log and automate the formatting of daily time-sheet notes submissions |"
   ]
  },
  {
   "cell_type": "code",
   "execution_count": null,
   "metadata": {},
   "outputs": [],
   "source": [
    "# libraries\n",
    "import openai\n",
    "import os\n",
    "from datetime import datetime"
   ]
  },
  {
   "cell_type": "code",
   "execution_count": 1,
   "metadata": {},
   "outputs": [],
   "source": [
    "# config\n",
    "from X_config4 import OPENAI_API_TOKEN"
   ]
  },
  {
   "cell_type": "code",
   "execution_count": null,
   "metadata": {},
   "outputs": [],
   "source": [
    "# using -> gpt-3.5-turbo\n",
    "openai.api_key = OPENAI_API_TOKEN # store token as api key var\n",
    "\n",
    "def complete_prompt(prompt):\n",
    "    completions = openai.Completion.create(\n",
    "        engine=\"gpt-3.5-turbo\",\n",
    "        prompt=prompt,\n",
    "        max_tokens=50,\n",
    "        n=1,\n",
    "        stop=None,\n",
    "        temperature=0.8,\n",
    "    )\n",
    "    return completions.choices[0].text.strip()\n",
    "\n",
    "def update_text_file(filename, section, content):\n",
    "    with open(filename, \"a\") as f:\n",
    "        f.write(f\"{section}\\n{content}\\n\\n\")\n",
    "\n",
    "def main():\n",
    "    log_filename = \"daily_log.txt\"\n",
    "    while True:\n",
    "        print(\"Choose an option:\")\n",
    "        print(\"1. Update Daily Objectives\")\n",
    "        print(\"2. Update Daily Accomplishments\")\n",
    "        print(\"3. Generate Summary\")\n",
    "        print(\"4. Exit\")\n",
    "        choice = int(input(\"Enter your choice: \"))\n",
    "\n",
    "        if choice == 1:\n",
    "                        section = \"Daily Objectives:\"\n",
    "        elif choice == 2:\n",
    "            section = \"Daily Accomplishments:\"\n",
    "        elif choice == 3:\n",
    "            with open(log_filename, \"r\") as f:\n",
    "                text = f.read()\n",
    "            prompt = f\"Summarize the following text and add color and context: {text}\"\n",
    "            summary = complete_prompt(prompt)\n",
    "            update_text_file(log_filename, \"Summary:\", summary)\n",
    "            print(\"Summary generated and added to the log file.\")\n",
    "            continue\n",
    "        elif choice == 4:\n",
    "            break\n",
    "        else:\n",
    "            print(\"Invalid choice. Please try again.\")\n",
    "            continue\n",
    "\n",
    "        raw_input = input(f\"Enter your {section[:-1].lower()} (use '|' to separate bullet points): \")\n",
    "        bullet_points = raw_input.split(\"|\")\n",
    "        corrected_bullet_points = []\n",
    "\n",
    "        for point in bullet_points:\n",
    "            prompt = f\"Correct and complete the following bullet point: {point.strip()}\"\n",
    "            corrected_point = complete_prompt(prompt)\n",
    "            corrected_bullet_points.append(corrected_point)\n",
    "\n",
    "        content = \"\\n\".join(f\"- {point}\" for point in corrected_bullet_points)\n",
    "        update_text_file(log_filename, section, content)\n",
    "        print(f\"{section[:-1]} updated in the log file.\")\n",
    "    print(\"Exiting the program. Goodbye!\")\n",
    "\n",
    "\n",
    "if __name__ == \"__main__\":\n",
    "    main()\n",
    "\n"
   ]
  }
 ],
 "metadata": {
  "kernelspec": {
   "display_name": "SETOOLS_venv",
   "language": "python",
   "name": "python3"
  },
  "language_info": {
   "codemirror_mode": {
    "name": "ipython",
    "version": 3
   },
   "file_extension": ".py",
   "mimetype": "text/x-python",
   "name": "python",
   "nbconvert_exporter": "python",
   "pygments_lexer": "ipython3",
   "version": "3.11.1"
  },
  "orig_nbformat": 4
 },
 "nbformat": 4,
 "nbformat_minor": 2
}
